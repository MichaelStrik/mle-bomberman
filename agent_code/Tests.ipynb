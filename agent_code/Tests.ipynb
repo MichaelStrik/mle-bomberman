{
 "cells": [
  {
   "cell_type": "code",
   "execution_count": 55,
   "id": "df91ca7a-cada-470b-b4c7-d446e71d687d",
   "metadata": {},
   "outputs": [],
   "source": [
    "import os\n",
    "def stats_from_each_round(log_file_path):\n",
    "        rounds=0\n",
    "        steps_list=[]\n",
    "        coins_list=[]\n",
    "        coins_revealed_list=[]\n",
    "        data={\n",
    "            \"steps_survived\": 0,\n",
    "            \"coins_collected\": 0,\n",
    "            \"revealed_coin\":0,\n",
    "            \"boxes_destroyed\": 0\n",
    "        }\n",
    "        with open(log_file_path, 'r') as log_file:\n",
    "            lines = log_file.readlines()\n",
    "            \n",
    "        for line in lines:\n",
    "            if \"WRAPPING UP\" in line:\n",
    "                steps_list.append(data[\"steps_survived\"])\n",
    "                coins_list.append(data[\"coins_collected\"])\n",
    "                coins_revealed_list.append(data[\"revealed_coin\"])\n",
    "                data[\"steps_survived\"]=0\n",
    "                data[\"coins_collected\"]=0\n",
    "                data[\"revealed_coin\"]=0\n",
    "                rounds+=1\n",
    "            if \"picked up coin\" in line:\n",
    "                data[\"coins_collected\"] += 1\n",
    "            elif \"STARTING STEP\" in line:\n",
    "                data[\"steps_survived\"] += 1\n",
    "            if \"Coin found\" in line:\n",
    "                data[\"revealed_coin\"] += 1\n",
    "        max_steps=max(steps_list)\n",
    "        max_coins=max(coins_list)\n",
    "        max_revealed=max(coins_revealed_list)\n",
    "        av_steps=round(sum(steps_list)/rounds)\n",
    "        av_coins=round(sum(coins_list)/rounds)\n",
    "        av_revealed=round(sum(coins_revealed_list)/rounds)\n",
    "        stats=(rounds,steps_list,coins_list, coins_revealed_list)  \n",
    "\n",
    "        if not os.path.isfile(\"stats.txt\"):\n",
    "            with open('stats.txt', 'w') as file:\n",
    "                file.write(log_file_path + \"\\n\")\n",
    "                file.write(str(stats)+\"\\n\"+\"Max steps: \"+str(max_steps)+\" Max coins: \"+str(max_coins)\n",
    "                           +\" Max coins revealed: \"+str(max_revealed)+\"\\n Average steps: \"+\n",
    "                           str(av_steps)+\" Average coins collected: \"+str(av_coins)+\n",
    "                           \" Average coins revealed: \"+str(av_revealed))\n",
    "        else:\n",
    "            with open('stats.txt', 'a') as file:\n",
    "                file.write(log_file_path+\"\\n\")\n",
    "                file.write(str(stats)+\"\\n\"+\"Max steps: \"+str(max_steps)+\" Max coins: \"+str(max_coins)\n",
    "                           +\" Max coins revealed: \"+str(max_revealed)+\"\\n Average steps: \"+\n",
    "                           str(av_steps)+\" Average coins collected: \"+str(av_coins)+\n",
    "                           \" Average coins revealed: \"+str(av_revealed))\n",
    "        return "
   ]
  },
  {
   "cell_type": "code",
   "execution_count": 56,
   "id": "975863e0-8dd5-4706-aef1-0e6012e9a64f",
   "metadata": {},
   "outputs": [],
   "source": [
    "stats_from_each_round(\"gameLisap50.log\")"
   ]
  },
  {
   "cell_type": "code",
   "execution_count": null,
   "id": "3ccf6dda-dbaa-4a8b-bd97-d3ea0b7d352b",
   "metadata": {},
   "outputs": [],
   "source": []
  }
 ],
 "metadata": {
  "kernelspec": {
   "display_name": "Python 3 (ipykernel)",
   "language": "python",
   "name": "python3"
  },
  "language_info": {
   "codemirror_mode": {
    "name": "ipython",
    "version": 3
   },
   "file_extension": ".py",
   "mimetype": "text/x-python",
   "name": "python",
   "nbconvert_exporter": "python",
   "pygments_lexer": "ipython3",
   "version": "3.12.3"
  }
 },
 "nbformat": 4,
 "nbformat_minor": 5
}
